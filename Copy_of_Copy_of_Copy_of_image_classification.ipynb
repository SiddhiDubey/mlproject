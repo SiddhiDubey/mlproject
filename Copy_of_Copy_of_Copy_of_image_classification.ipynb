{
  "cells": [
    {
      "cell_type": "code",
      "execution_count": 1,
      "metadata": {
        "colab": {
          "base_uri": "https://localhost:8080/"
        },
        "id": "KV-a1Z4URlvn",
        "outputId": "52afbb75-dbbc-4863-e95f-f2dc23e3507a"
      },
      "outputs": [
        {
          "output_type": "stream",
          "name": "stdout",
          "text": [
            "Looking in indexes: https://pypi.org/simple, https://us-python.pkg.dev/colab-wheels/public/simple/\n",
            "Collecting ipython-autotime\n",
            "  Downloading ipython_autotime-0.3.1-py2.py3-none-any.whl (6.8 kB)\n",
            "Requirement already satisfied: ipython in /usr/local/lib/python3.7/dist-packages (from ipython-autotime) (7.9.0)\n",
            "Requirement already satisfied: prompt-toolkit<2.1.0,>=2.0.0 in /usr/local/lib/python3.7/dist-packages (from ipython->ipython-autotime) (2.0.10)\n",
            "Requirement already satisfied: decorator in /usr/local/lib/python3.7/dist-packages (from ipython->ipython-autotime) (4.4.2)\n",
            "Requirement already satisfied: pygments in /usr/local/lib/python3.7/dist-packages (from ipython->ipython-autotime) (2.6.1)\n",
            "Requirement already satisfied: traitlets>=4.2 in /usr/local/lib/python3.7/dist-packages (from ipython->ipython-autotime) (5.1.1)\n",
            "Requirement already satisfied: setuptools>=18.5 in /usr/local/lib/python3.7/dist-packages (from ipython->ipython-autotime) (57.4.0)\n",
            "Requirement already satisfied: pickleshare in /usr/local/lib/python3.7/dist-packages (from ipython->ipython-autotime) (0.7.5)\n",
            "Requirement already satisfied: pexpect in /usr/local/lib/python3.7/dist-packages (from ipython->ipython-autotime) (4.8.0)\n",
            "Collecting jedi>=0.10\n",
            "  Downloading jedi-0.18.1-py2.py3-none-any.whl (1.6 MB)\n",
            "\u001b[K     |████████████████████████████████| 1.6 MB 5.1 MB/s \n",
            "\u001b[?25hRequirement already satisfied: backcall in /usr/local/lib/python3.7/dist-packages (from ipython->ipython-autotime) (0.2.0)\n",
            "Requirement already satisfied: parso<0.9.0,>=0.8.0 in /usr/local/lib/python3.7/dist-packages (from jedi>=0.10->ipython->ipython-autotime) (0.8.3)\n",
            "Requirement already satisfied: wcwidth in /usr/local/lib/python3.7/dist-packages (from prompt-toolkit<2.1.0,>=2.0.0->ipython->ipython-autotime) (0.2.5)\n",
            "Requirement already satisfied: six>=1.9.0 in /usr/local/lib/python3.7/dist-packages (from prompt-toolkit<2.1.0,>=2.0.0->ipython->ipython-autotime) (1.15.0)\n",
            "Requirement already satisfied: ptyprocess>=0.5 in /usr/local/lib/python3.7/dist-packages (from pexpect->ipython->ipython-autotime) (0.7.0)\n",
            "Installing collected packages: jedi, ipython-autotime\n",
            "Successfully installed ipython-autotime-0.3.1 jedi-0.18.1\n",
            "time: 752 µs (started: 2022-10-12 05:04:33 +00:00)\n"
          ]
        }
      ],
      "source": [
        "!pip install ipython-autotime\n",
        "%load_ext autotime"
      ]
    },
    {
      "cell_type": "code",
      "execution_count": 2,
      "metadata": {
        "colab": {
          "base_uri": "https://localhost:8080/"
        },
        "id": "uDyh3qqTMEwY",
        "outputId": "bc40f10b-e31b-481d-dd03-5160299ba3b1"
      },
      "outputs": [
        {
          "output_type": "stream",
          "name": "stdout",
          "text": [
            "Looking in indexes: https://pypi.org/simple, https://us-python.pkg.dev/colab-wheels/public/simple/\n",
            "Collecting bing-image-downloader\n",
            "  Downloading bing_image_downloader-1.1.2-py3-none-any.whl (5.9 kB)\n",
            "Installing collected packages: bing-image-downloader\n",
            "Successfully installed bing-image-downloader-1.1.2\n",
            "time: 3.74 s (started: 2022-10-12 05:04:38 +00:00)\n"
          ]
        }
      ],
      "source": [
        "!pip install bing-image-downloader"
      ]
    },
    {
      "cell_type": "code",
      "execution_count": 3,
      "metadata": {
        "colab": {
          "base_uri": "https://localhost:8080/"
        },
        "id": "4hhbeoBlNDuy",
        "outputId": "bd6e77a0-b0e1-4a3e-c977-9e0634f55410"
      },
      "outputs": [
        {
          "output_type": "stream",
          "name": "stdout",
          "text": [
            "time: 112 ms (started: 2022-10-12 05:04:42 +00:00)\n"
          ]
        }
      ],
      "source": [
        "!mkdir images"
      ]
    },
    {
      "cell_type": "code",
      "execution_count": 4,
      "metadata": {
        "colab": {
          "base_uri": "https://localhost:8080/"
        },
        "id": "4U_2NetjNPLA",
        "outputId": "a38f26e1-34a9-459e-ba63-76ae56cdf0b5"
      },
      "outputs": [
        {
          "output_type": "stream",
          "name": "stdout",
          "text": [
            "[%] Downloading Images to /content/images/sunflower\n",
            "\n",
            "\n",
            "[!!]Indexing page: 1\n",
            "\n",
            "[%] Indexed 17 Images on Page 1.\n",
            "\n",
            "===============================================\n",
            "\n",
            "[%] Downloading Image #1 from http://fullhdpictures.com/wp-content/uploads/2016/08/Sunflower-Pictures.jpg\n",
            "[%] File Downloaded !\n",
            "\n",
            "[%] Downloading Image #2 from https://media.the-digital-picture.com/Images/Pics/2011/2011-08-30_04-35-16.jpg\n",
            "[%] File Downloaded !\n",
            "\n",
            "[%] Downloading Image #3 from https://3.bp.blogspot.com/_ab32xDu9-FI/TDDHksRWI-I/AAAAAAAAAX8/VFYnd4ul4zU/s1600/sunflowers.jpg\n",
            "[Error]Invalid image, not saving https://3.bp.blogspot.com/_ab32xDu9-FI/TDDHksRWI-I/AAAAAAAAAX8/VFYnd4ul4zU/s1600/sunflowers.jpg\n",
            "\n",
            "[!] Issue getting: https://3.bp.blogspot.com/_ab32xDu9-FI/TDDHksRWI-I/AAAAAAAAAX8/VFYnd4ul4zU/s1600/sunflowers.jpg\n",
            "[!] Error:: Invalid image, not saving https://3.bp.blogspot.com/_ab32xDu9-FI/TDDHksRWI-I/AAAAAAAAAX8/VFYnd4ul4zU/s1600/sunflowers.jpg\n",
            "\n",
            "[%] Downloading Image #3 from http://3.bp.blogspot.com/-CgYeiVW9sZ0/Ufbf0l4JlKI/AAAAAAAABNo/iEF8lowFijk/s1600/Sunflower-1.jpg\n",
            "[%] File Downloaded !\n",
            "\n",
            "[%] Downloading Image #4 from http://ww2.odu.edu/~jadam/images/gallery/sunflower.jpg\n",
            "[%] File Downloaded !\n",
            "\n",
            "[%] Downloading Image #5 from https://1.bp.blogspot.com/_ab32xDu9-FI/TDDHimr8nSI/AAAAAAAAAXk/jK60umiVPy0/s320/sunflower.jpg\n",
            "[%] File Downloaded !\n",
            "\n",
            "[%] Downloading Image #6 from https://www.wallpapers13.com/wp-content/uploads/2020/02/Plants-Field-with-Sunflower-flowers-with-yellow-petals-Sunset-Landscape-photography-Wallpaper-Hd-.jpg\n",
            "[%] File Downloaded !\n",
            "\n",
            "[%] Downloading Image #7 from http://timoelliott.com/personal/wp-content/uploads/2009/07/sunflower-blog.jpg\n",
            "[%] File Downloaded !\n",
            "\n",
            "[%] Downloading Image #8 from http://dracoverdi.net/pictures/sunflowers.jpg\n",
            "[%] File Downloaded !\n",
            "\n",
            "[%] Downloading Image #9 from https://www.stylist.co.uk/images/app/uploads/2021/08/01215655/whatsapp-image-2021-07-29-at-4-32-48-pm-210318.jpeg?w=1200&amp;h=1&amp;fit=max&amp;auto=format%2Ccompress\n",
            "[%] File Downloaded !\n",
            "\n",
            "[%] Downloading Image #10 from http://sunipix.com/flowers/Sunflower20.jpg\n",
            "[%] File Downloaded !\n",
            "\n",
            "[%] Downloading Image #11 from https://whippedbakeshop.com/wp-content/uploads/2021/01/sunflower-cupcakes-whipped-bakeshop-2-1152x1536.jpg\n",
            "[%] File Downloaded !\n",
            "\n",
            "[%] Downloading Image #12 from https://decor4all.com/wp-content/uploads/2015/07/sunflower-floral-arrangements-wedding-decorating-ideas-15.jpg\n",
            "[%] File Downloaded !\n",
            "\n",
            "[%] Downloading Image #13 from https://i.pinimg.com/736x/a5/05/8d/a5058d91c0865848eec782eedc16fd5f.jpg\n",
            "[%] File Downloaded !\n",
            "\n",
            "[%] Downloading Image #14 from https://i.pinimg.com/736x/32/19/f1/3219f1e515267de0128402ed04298a84.jpg\n",
            "[%] File Downloaded !\n",
            "\n",
            "[%] Downloading Image #15 from https://d29jd5m3t61t9.cloudfront.net/flowersforums.com/images/fbfiles/images/xsunflowerleaf_v_1464118214.jpg.pagespeed.ic.zq0SmWa0nH.jpg\n",
            "[%] File Downloaded !\n",
            "\n",
            "[%] Downloading Image #16 from http://www.art2inspire.co.uk/wp-content/uploads/2009/11/Sunflower-3.jpg\n",
            "[%] File Downloaded !\n",
            "\n",
            "\n",
            "\n",
            "[!!]Indexing page: 2\n",
            "\n",
            "[%] Indexed 8 Images on Page 2.\n",
            "\n",
            "===============================================\n",
            "\n",
            "[%] Downloading Image #17 from https://img.thrfun.com/img/084/482/sunflower_information_and_photos_x1.jpg\n",
            "[%] File Downloaded !\n",
            "\n",
            "[%] Downloading Image #18 from https://www.wallpapers13.com/wp-content/uploads/2015/12/Awesome-sunflower-wallpaper-012-1920x1440.jpg\n",
            "[%] File Downloaded !\n",
            "\n",
            "[%] Downloading Image #19 from https://i.pinimg.com/736x/76/5c/d9/765cd96b195a6818bbca6175950d5453.jpg\n",
            "[%] File Downloaded !\n",
            "\n",
            "[%] Downloading Image #20 from https://www.wohhwedding.com/wp-content/uploads/2016/05/Sunflower-Wedding-Flower-Arrangements-Decorations.jpg\n",
            "[%] File Downloaded !\n",
            "\n",
            "[%] Downloading Image #21 from http://hddesktopwallpapers.in/wp-content/uploads/2015/09/mint-wallpapers-green-680x425.jpg\n",
            "[!] Issue getting: http://hddesktopwallpapers.in/wp-content/uploads/2015/09/mint-wallpapers-green-680x425.jpg\n",
            "[!] Error:: HTTP Error 522: \n",
            "[%] Downloading Image #21 from https://www.wohhwedding.com/wp-content/uploads/2016/05/Sunflower-Themed-Wedding-Decorations.jpg\n",
            "[%] File Downloaded !\n",
            "\n",
            "[%] Downloading Image #22 from https://www.wohhwedding.com/wp-content/uploads/2016/05/Sunflower-Wedding-Decorations-Ideas.jpg\n",
            "[%] File Downloaded !\n",
            "\n",
            "[%] Downloading Image #23 from http://autenwideplankflooring.com/wp-content/uploads/2020/03/auten-european-oil-white-oak-4-e1584971905988.jpg\n",
            "[%] File Downloaded !\n",
            "\n",
            "\n",
            "\n",
            "[!!]Indexing page: 3\n",
            "\n",
            "[%] Indexed 7 Images on Page 3.\n",
            "\n",
            "===============================================\n",
            "\n",
            "\n",
            "\n",
            "[!!]Indexing page: 4\n",
            "\n",
            "[%] Indexed 6 Images on Page 4.\n",
            "\n",
            "===============================================\n",
            "\n",
            "\n",
            "\n",
            "[!!]Indexing page: 5\n",
            "\n",
            "[%] Indexed 11 Images on Page 5.\n",
            "\n",
            "===============================================\n",
            "\n",
            "[%] Downloading Image #24 from https://theparentvortex.com/wordpress/wp-content/uploads/2012/09/sunflower.jpg\n",
            "[%] File Downloaded !\n",
            "\n",
            "[%] Downloading Image #25 from https://i.pinimg.com/736x/42/98/a1/4298a1d94e0530efbd44a911336460aa.jpg\n",
            "[%] File Downloaded !\n",
            "\n",
            "[%] Downloading Image #26 from http://apparentlynothing.com/wp-content/uploads/2012/08/sunflower.jpg\n",
            "[%] File Downloaded !\n",
            "\n",
            "[%] Downloading Image #27 from https://i.pinimg.com/736x/f5/f0/ea/f5f0ea9fbe6757053bc882a9283d084f--fur-vase.jpg\n",
            "[%] File Downloaded !\n",
            "\n",
            "[%] Downloading Image #28 from http://i378.photobucket.com/albums/oo230/ceekayfun2008/Sunflower.jpg\n",
            "[Error]Invalid image, not saving http://i378.photobucket.com/albums/oo230/ceekayfun2008/Sunflower.jpg\n",
            "\n",
            "[!] Issue getting: http://i378.photobucket.com/albums/oo230/ceekayfun2008/Sunflower.jpg\n",
            "[!] Error:: Invalid image, not saving http://i378.photobucket.com/albums/oo230/ceekayfun2008/Sunflower.jpg\n",
            "\n",
            "[%] Downloading Image #28 from https://i.pinimg.com/736x/18/a9/16/18a91600a254bc8c4f17b834639ba007.jpg\n",
            "[%] File Downloaded !\n",
            "\n",
            "[%] Downloading Image #29 from https://blacklightrobot.files.wordpress.com/2014/07/sunflower2-2.jpg\n",
            "[Error]Invalid image, not saving https://blacklightrobot.files.wordpress.com/2014/07/sunflower2-2.jpg\n",
            "\n",
            "[!] Issue getting: https://blacklightrobot.files.wordpress.com/2014/07/sunflower2-2.jpg\n",
            "[!] Error:: Invalid image, not saving https://blacklightrobot.files.wordpress.com/2014/07/sunflower2-2.jpg\n",
            "\n",
            "[%] Downloading Image #29 from https://www.elegantweddinginvites.com/wedding-blog/wp-content/uploads/2015/12/elegant-simple-wedding-cake-with-sunflower-and-wooden-stand.jpg\n",
            "[Error]Invalid image, not saving https://www.elegantweddinginvites.com/wedding-blog/wp-content/uploads/2015/12/elegant-simple-wedding-cake-with-sunflower-and-wooden-stand.jpg\n",
            "\n",
            "[!] Issue getting: https://www.elegantweddinginvites.com/wedding-blog/wp-content/uploads/2015/12/elegant-simple-wedding-cake-with-sunflower-and-wooden-stand.jpg\n",
            "[!] Error:: Invalid image, not saving https://www.elegantweddinginvites.com/wedding-blog/wp-content/uploads/2015/12/elegant-simple-wedding-cake-with-sunflower-and-wooden-stand.jpg\n",
            "\n",
            "[%] Downloading Image #29 from https://doubletakemicrowear.com/shop/wp-content/uploads/2014/10/dbl-diamond-05-600x900.jpg\n",
            "[%] File Downloaded !\n",
            "\n",
            "[%] Downloading Image #30 from https://i.pinimg.com/736x/2f/0b/35/2f0b35e7f2f7d800ad2449957a4eee15.jpg\n",
            "[%] File Downloaded !\n",
            "\n",
            "\n",
            "\n",
            "[%] Done. Downloaded 30 images.\n",
            "time: 29.9 s (started: 2022-10-12 05:04:49 +00:00)\n"
          ]
        }
      ],
      "source": [
        "from bing_image_downloader import downloader\n",
        "downloader.download(\"sunflower\", limit=30, output_dir='images', adult_filter_off=True)"
      ]
    },
    {
      "cell_type": "code",
      "execution_count": 5,
      "metadata": {
        "colab": {
          "base_uri": "https://localhost:8080/"
        },
        "id": "eeArE4ymOCGb",
        "outputId": "c892013a-2a63-4376-cda6-ff6977afb37b"
      },
      "outputs": [
        {
          "output_type": "stream",
          "name": "stdout",
          "text": [
            "[%] Downloading Images to /content/images/rugby ball leather\n",
            "\n",
            "\n",
            "[!!]Indexing page: 1\n",
            "\n",
            "[%] Indexed 17 Images on Page 1.\n",
            "\n",
            "===============================================\n",
            "\n",
            "[%] Downloading Image #1 from https://cdn.shopify.com/s/files/1/0788/5979/products/mvp-leather-balls-deluxe-leather-rugby-ball-1_2356x.jpg?v=1551767452\n",
            "[%] File Downloaded !\n",
            "\n",
            "[%] Downloading Image #2 from https://www.brand-estore.com/ArthurJGallagher/Images/Products/Large/AJG050_Image 1_184.png\n",
            "[!] Issue getting: https://www.brand-estore.com/ArthurJGallagher/Images/Products/Large/AJG050_Image 1_184.png\n",
            "[!] Error:: URL can't contain control characters. '/ArthurJGallagher/Images/Products/Large/AJG050_Image 1_184.png' (found at least ' ')\n",
            "[%] Downloading Image #2 from https://cdn.shopify.com/s/files/1/0226/2169/products/Chromexcel_2048x2048_V2.jpg?v=1511272699\n",
            "[%] File Downloaded !\n",
            "\n",
            "[%] Downloading Image #3 from http://skbassansports.com/wp-content/uploads/2019/01/DSC_0185-copy-600x600.png\n",
            "[%] File Downloaded !\n",
            "\n",
            "[%] Downloading Image #4 from https://a.1stdibscdn.com/archivesE/upload/1722654/f_57479931476893001245/1_org_l.jpg\n",
            "[%] File Downloaded !\n",
            "\n",
            "[%] Downloading Image #5 from http://cdn.shopify.com/s/files/1/0226/2169/products/BlkOnyxRugby600_1024x1024.jpg?v=1459274944\n",
            "[%] File Downloaded !\n",
            "\n",
            "[%] Downloading Image #6 from https://cdn.shopify.com/s/files/1/0068/0227/6407/products/2600_20RAAA13_2082001205_20Ball_20Leather_20Vint_20Dk_20Tan_20Sz5_1024x1024.jpg?v=1557417173\n",
            "[%] File Downloaded !\n",
            "\n",
            "[%] Downloading Image #7 from https://a.1stdibscdn.com/archivesE/upload/1121195/f_57479931476891124426/3_l.jpg\n",
            "[%] File Downloaded !\n",
            "\n",
            "[%] Downloading Image #8 from http://www.kraveantiques.co.uk/images/products/Brown-Rugby-Ball-6.jpg\n",
            "[%] File Downloaded !\n",
            "\n",
            "[%] Downloading Image #9 from https://i.pinimg.com/736x/f9/30/32/f9303254055cd331569d5095ee863462.jpg\n",
            "[%] File Downloaded !\n",
            "\n",
            "[%] Downloading Image #10 from https://i.etsystatic.com/7864717/r/il/fcb313/553362814/il_794xN.553362814_qmp9.jpg\n",
            "[%] File Downloaded !\n",
            "\n",
            "[%] Downloading Image #11 from https://www.ronin-exports.com/photos/rugby/leather_football.jpg\n",
            "[%] File Downloaded !\n",
            "\n",
            "[%] Downloading Image #12 from http://cdn.shopify.com/s/files/1/1492/1076/products/Personalised_Chelsea_Football_Ball_800x.jpg?v=1575301968\n",
            "[%] File Downloaded !\n",
            "\n",
            "[%] Downloading Image #13 from https://cdn.shopify.com/s/files/1/0788/5979/products/mvp-leather-balls-deluxe-leather-18p-soccer-ball-3_1024x1024.jpg?v=1548125711\n",
            "[%] File Downloaded !\n",
            "\n",
            "[%] Downloading Image #14 from https://cdn.theschoollocker.com.au/media/catalog/product/cache/1/image/9df78eab33525d08d6e5fb8d27136e95/r/e/regent__soft_t-ball_16162.jpg\n",
            "[%] File Downloaded !\n",
            "\n",
            "[%] Downloading Image #15 from https://static.vecteezy.com/system/resources/previews/000/094/728/original/rugby-pitch-vector.jpg\n",
            "[%] File Downloaded !\n",
            "\n",
            "[%] Downloading Image #16 from https://openclipart.org/image/800px/svg_to_png/281547/RugbyBall2.png\n",
            "[%] File Downloaded !\n",
            "\n",
            "\n",
            "\n",
            "[!!]Indexing page: 2\n",
            "\n",
            "[%] Indexed 16 Images on Page 2.\n",
            "\n",
            "===============================================\n",
            "\n",
            "[%] Downloading Image #17 from http://cdn.shopify.com/s/files/1/0226/2169/products/Chromexcel_2048x2048_V3_grande.jpg?v=1511272700\n",
            "[%] File Downloaded !\n",
            "\n",
            "[%] Downloading Image #18 from http://junktionantiques.co.uk/gallery3/var/albums/Sporting-Bygones/DSC09110.JPG?m=1574037875\n",
            "[%] File Downloaded !\n",
            "\n",
            "[%] Downloading Image #19 from https://5.imimg.com/data5/FC/IU/IB/SELLER-28514375/promotional-rugby-ball.jpeg\n",
            "[Error]Invalid image, not saving https://5.imimg.com/data5/FC/IU/IB/SELLER-28514375/promotional-rugby-ball.jpeg\n",
            "\n",
            "[!] Issue getting: https://5.imimg.com/data5/FC/IU/IB/SELLER-28514375/promotional-rugby-ball.jpeg\n",
            "[!] Error:: Invalid image, not saving https://5.imimg.com/data5/FC/IU/IB/SELLER-28514375/promotional-rugby-ball.jpeg\n",
            "\n",
            "[%] Downloading Image #19 from https://i.etsystatic.com/13030334/r/il/f31f69/1107633085/il_fullxfull.1107633085_cpjl.jpg\n",
            "[%] File Downloaded !\n",
            "\n",
            "[%] Downloading Image #20 from https://images-eu.ssl-images-amazon.com/images/I/41kYZjN6PeL._AC_US218_.jpg\n",
            "[%] File Downloaded !\n",
            "\n",
            "[%] Downloading Image #21 from https://www.ballsdirect.co.uk/wp-content/uploads/2018/05/optimised_rugby4.jpg\n",
            "[%] File Downloaded !\n",
            "\n",
            "[%] Downloading Image #22 from http://cdn.shopify.com/s/files/1/0226/2169/collections/CXLRugby60002_large.jpg?v=1456244018\n",
            "[%] File Downloaded !\n",
            "\n",
            "[%] Downloading Image #23 from https://sc01.alicdn.com/kf/UTB8OgjshXPJXKJkSahVq6xyzFXa7/101023970/UTB8OgjshXPJXKJkSahVq6xyzFXa7.jpg\n",
            "[%] File Downloaded !\n",
            "\n",
            "[%] Downloading Image #24 from https://s-media-cache-ak0.pinimg.com/736x/69/50/51/695051b6f90de114a26b4ccbfdc3b70b.jpg\n",
            "[%] File Downloaded !\n",
            "\n",
            "[%] Downloading Image #25 from https://www.mullocksauctions.co.uk/cd-content/uploads/images/lots/SM-05Sept2012D/1173.jpg\n",
            "[%] File Downloaded !\n",
            "\n",
            "[%] Downloading Image #26 from https://www.john-woodbridge.com/1024-large_default/1910s-basketball.jpg\n",
            "[%] File Downloaded !\n",
            "\n",
            "[%] Downloading Image #27 from https://www.prodirectrugby.com/productimages/V3_1_Main/62290.jpg\n",
            "[!] Issue getting: https://www.prodirectrugby.com/productimages/V3_1_Main/62290.jpg\n",
            "[!] Error:: HTTP Error 403: Forbidden\n",
            "[%] Downloading Image #27 from https://www.molten.co.jp/sports/en/football/product/football/detail/img/f5a5000_480480_ph007.jpg\n",
            "[Error]Invalid image, not saving https://www.molten.co.jp/sports/en/football/product/football/detail/img/f5a5000_480480_ph007.jpg\n",
            "\n",
            "[!] Issue getting: https://www.molten.co.jp/sports/en/football/product/football/detail/img/f5a5000_480480_ph007.jpg\n",
            "[!] Error:: Invalid image, not saving https://www.molten.co.jp/sports/en/football/product/football/detail/img/f5a5000_480480_ph007.jpg\n",
            "\n",
            "[%] Downloading Image #27 from https://static.vecteezy.com/system/resources/previews/000/111/555/non_2x/hand-drawn-leather-football-vector-texture.jpg\n",
            "[%] File Downloaded !\n",
            "\n",
            "[%] Downloading Image #28 from https://www.prodirectrugby.com/productimages/V3_1_Main/68682.jpg\n",
            "[!] Issue getting: https://www.prodirectrugby.com/productimages/V3_1_Main/68682.jpg\n",
            "[!] Error:: HTTP Error 403: Forbidden\n",
            "[%] Downloading Image #28 from https://static.vecteezy.com/system/resources/previews/000/508/610/original/realistic-football-vector.jpg\n",
            "[%] File Downloaded !\n",
            "\n",
            "\n",
            "\n",
            "[!!]Indexing page: 3\n",
            "\n",
            "[%] Indexed 15 Images on Page 3.\n",
            "\n",
            "===============================================\n",
            "\n",
            "\n",
            "\n",
            "[!!]Indexing page: 4\n",
            "\n",
            "[%] Indexed 14 Images on Page 4.\n",
            "\n",
            "===============================================\n",
            "\n",
            "\n",
            "\n",
            "[!!]Indexing page: 5\n",
            "\n",
            "[%] Indexed 13 Images on Page 5.\n",
            "\n",
            "===============================================\n",
            "\n",
            "\n",
            "\n",
            "[!!]Indexing page: 6\n",
            "\n",
            "[%] Indexed 12 Images on Page 6.\n",
            "\n",
            "===============================================\n",
            "\n",
            "[%] Downloading Image #29 from https://cpimg.tistatic.com/05423676/b/4/Leather-Rugby-Ball.jpg?tr=n-w300\n",
            "[%] File Downloaded !\n",
            "\n",
            "[%] Downloading Image #30 from https://cdn.shopify.com/s/files/1/0226/2169/products/B_T_2048x2048_V1_760x.jpg?v=1511272515'\n",
            "[%] File Downloaded !\n",
            "\n",
            "\n",
            "\n",
            "[%] Done. Downloaded 30 images.\n",
            "time: 18.4 s (started: 2022-10-12 05:05:22 +00:00)\n"
          ]
        }
      ],
      "source": [
        "from bing_image_downloader import downloader\n",
        "downloader.download(\"rugby ball leather\", limit=30, output_dir='images', adult_filter_off=True)"
      ]
    },
    {
      "cell_type": "code",
      "execution_count": 6,
      "metadata": {
        "colab": {
          "base_uri": "https://localhost:8080/"
        },
        "id": "L8Xs_LXgQDNc",
        "outputId": "ede601a4-eb17-4554-f0f9-fbb0cbad4a82"
      },
      "outputs": [
        {
          "output_type": "stream",
          "name": "stdout",
          "text": [
            "[%] Downloading Images to /content/images/ice cream cone\n",
            "\n",
            "\n",
            "[!!]Indexing page: 1\n",
            "\n",
            "[%] Indexed 16 Images on Page 1.\n",
            "\n",
            "===============================================\n",
            "\n",
            "[%] Downloading Image #1 from https://steemitimages.com/DQme5DwQdbRzw8KucpRKTHCagcC2W32SPBzWc2CVqGwHB76/4.jpg\n",
            "[%] File Downloaded !\n",
            "\n",
            "[%] Downloading Image #2 from https://www.lovesouthend.co.uk/wp-content/uploads/2014/10/Ice_cream_cone1.jpg\n",
            "[%] File Downloaded !\n",
            "\n",
            "[%] Downloading Image #3 from http://thumbs.dreamstime.com/z/ice-cream-cone-25506352.jpg\n",
            "[%] File Downloaded !\n",
            "\n",
            "[%] Downloading Image #4 from https://4.bp.blogspot.com/-sSrJTVxzP6w/TiHV-4E-6qI/AAAAAAAAA8s/d-nnThpVpcw/s1600/IMG_1668.JPG\n",
            "[%] File Downloaded !\n",
            "\n",
            "[%] Downloading Image #5 from http://1.bp.blogspot.com/_H9WQvtfyFVY/TB5qv8JJ8jI/AAAAAAAABcs/fWitFzIVMSA/s320/ice+cream+cone.jpg\n",
            "[%] File Downloaded !\n",
            "\n",
            "[%] Downloading Image #6 from https://c1.staticflickr.com/3/2612/4029656097_9b8f21c129.jpg\n",
            "[%] File Downloaded !\n",
            "\n",
            "[%] Downloading Image #7 from http://tastelikecrazy.com/wp-content/uploads/2010/04/ice-cream-cones.jpg\n",
            "[%] File Downloaded !\n",
            "\n",
            "[%] Downloading Image #8 from http://www.patentplaques-blog.com/wp-content/uploads/2010/06/icecreamcone.jpg\n",
            "[%] File Downloaded !\n",
            "\n",
            "[%] Downloading Image #9 from https://pinwheelshop.com/assets/media/images/6d3c94c4b6f742b6d8185d36b036e0ba.jpg\n",
            "[%] File Downloaded !\n",
            "\n",
            "[%] Downloading Image #10 from http://i.ytimg.com/vi/2H8p2Dxpu_s/maxresdefault.jpg\n",
            "[%] File Downloaded !\n",
            "\n",
            "[%] Downloading Image #11 from https://thumbs.dreamstime.com/z/ice-cream-cone-assortment-27404952.jpg\n",
            "[%] File Downloaded !\n",
            "\n",
            "[%] Downloading Image #12 from https://i.pinimg.com/736x/cb/97/07/cb97072cb4a3de0e06698b17c299ffc6.jpg\n",
            "[%] File Downloaded !\n",
            "\n",
            "[%] Downloading Image #13 from https://digitalsynopsis.com/wp-content/uploads/2017/08/habibs-ice-cream-sculpture-moai.jpg\n",
            "[Error]Invalid image, not saving https://digitalsynopsis.com/wp-content/uploads/2017/08/habibs-ice-cream-sculpture-moai.jpg\n",
            "\n",
            "[!] Issue getting: https://digitalsynopsis.com/wp-content/uploads/2017/08/habibs-ice-cream-sculpture-moai.jpg\n",
            "[!] Error:: Invalid image, not saving https://digitalsynopsis.com/wp-content/uploads/2017/08/habibs-ice-cream-sculpture-moai.jpg\n",
            "\n",
            "[%] Downloading Image #13 from https://i.chzbgr.com/original/4474817536/h4E3CBC8E/cream-ice-cream-cone-magic-magically-disappear-mixed-breed-noms-people-food-whatbreed-4474817536\n",
            "[%] File Downloaded !\n",
            "\n",
            "[%] Downloading Image #14 from https://c8.alamy.com/comp/B8HJ06/a-cute-teen-girl-with-freckles-and-braces-holding-a-chocolate-ice-B8HJ06.jpg\n",
            "[%] File Downloaded !\n",
            "\n",
            "[%] Downloading Image #15 from https://www.explorebranson.com/sites/default/files/styles/listing_image/public/listing_images/3160-andys1.jpg?itok=Q993G0Gt\n",
            "[%] File Downloaded !\n",
            "\n",
            "\n",
            "\n",
            "[!!]Indexing page: 2\n",
            "\n",
            "[%] Indexed 16 Images on Page 2.\n",
            "\n",
            "===============================================\n",
            "\n",
            "[%] Downloading Image #16 from https://static01.nyt.com/images/2013/06/02/magazine/02wmt/02wmt-articleLarge-v3.jpg\n",
            "[%] File Downloaded !\n",
            "\n",
            "[%] Downloading Image #17 from https://hips.hearstapps.com/ell.h-cdn.co/assets/16/28/gettyimages-544385420.jpg?crop=1.0xw:1xh;center,top&amp;resize=480:*\n",
            "[%] File Downloaded !\n",
            "\n",
            "[%] Downloading Image #18 from https://dailynewsdig.com/wp-content/uploads/2013/08/craziest-ice-cream-trucks-9.jpg\n",
            "[%] File Downloaded !\n",
            "\n",
            "[%] Downloading Image #19 from https://townsquare.media/site/14/files/2019/03/DairyQueenCone.jpg?w=1200&amp;h=0&amp;zc=1&amp;s=0&amp;a=t&amp;q=89\n",
            "[!] Issue getting: https://townsquare.media/site/14/files/2019/03/DairyQueenCone.jpg?w=1200&amp;h=0&amp;zc=1&amp;s=0&amp;a=t&amp;q=89\n",
            "[!] Error:: HTTP Error 404: Not Found\n",
            "[%] Downloading Image #19 from https://img.buzzfeed.com/buzzfeed-static/static/enhanced/webdr03/2013/4/8/16/enhanced-buzz-21704-1365454408-6.jpg\n",
            "[%] File Downloaded !\n",
            "\n",
            "[%] Downloading Image #20 from https://tasteandbake.com/wp-content/uploads/2015/06/these-ice-cream-cones-are-not-re1.jpg\n",
            "[!] Issue getting: https://tasteandbake.com/wp-content/uploads/2015/06/these-ice-cream-cones-are-not-re1.jpg\n",
            "[!] Error:: <urlopen error [SSL: CERTIFICATE_VERIFY_FAILED] certificate verify failed: certificate has expired (_ssl.c:1091)>\n",
            "[%] Downloading Image #20 from https://sc02.alicdn.com/kf/HTB1rTSNNXXXXXbDXFXXq6xXFXXX1/200578735/HTB1rTSNNXXXXXbDXFXXq6xXFXXX1.jpg\n",
            "[%] File Downloaded !\n",
            "\n",
            "[%] Downloading Image #21 from http://1000awesomethings.com/wp-content/uploads/2012/02/ice-cream-cone.jpg\n",
            "[%] File Downloaded !\n",
            "\n",
            "[%] Downloading Image #22 from http://assets.discountqueens.com/uploads/Ice-Cream-Cones.jpg\n",
            "[!] Issue getting: http://assets.discountqueens.com/uploads/Ice-Cream-Cones.jpg\n",
            "[!] Error:: HTTP Error 403: Forbidden\n",
            "[%] Downloading Image #22 from https://1.bp.blogspot.com/_H9WQvtfyFVY/TB5qv8JJ8jI/AAAAAAAABcs/fWitFzIVMSA/s1600/ice+cream+cone.jpg\n",
            "[%] File Downloaded !\n",
            "\n",
            "[%] Downloading Image #23 from https://i.pinimg.com/736x/73/bd/3d/73bd3d41485e5f96105431dfd261d0b6--vintage-ice-cream-ice-cream-cones.jpg\n",
            "[%] File Downloaded !\n",
            "\n",
            "[%] Downloading Image #24 from https://www.obnoxiousantiques.com/wp-content/uploads/2011/05/P1020784-600x800.jpg\n",
            "[%] File Downloaded !\n",
            "\n",
            "[%] Downloading Image #25 from https://cdn.shopify.com/s/files/1/0192/3894/products/icecreamcone_2_1024x1024.jpg?v=1356890769\n",
            "[%] File Downloaded !\n",
            "\n",
            "[%] Downloading Image #26 from https://ak9.picdn.net/shutterstock/videos/13392749/thumb/9.jpg\n",
            "[%] File Downloaded !\n",
            "\n",
            "[%] Downloading Image #27 from https://cdn.superstock.com/1660/Comp/1660R-30823.jpg\n",
            "[%] File Downloaded !\n",
            "\n",
            "[%] Downloading Image #28 from https://3.bp.blogspot.com/-UMF2mGb2g7I/WDY7eUj-zsI/AAAAAAAAgqo/xLdx3FJTfhYmaLXppu5v6okwcOgXMKNZgCLcB/s1600/IMG_0184.JPG\n",
            "[%] File Downloaded !\n",
            "\n",
            "\n",
            "\n",
            "[!!]Indexing page: 3\n",
            "\n",
            "[%] Indexed 15 Images on Page 3.\n",
            "\n",
            "===============================================\n",
            "\n",
            "\n",
            "\n",
            "[!!]Indexing page: 4\n",
            "\n",
            "[%] Indexed 7 Images on Page 4.\n",
            "\n",
            "===============================================\n",
            "\n",
            "[%] Downloading Image #29 from http://i.ebayimg.com/images/i/130854503340-0-1/s-l1000.jpg\n",
            "[!] Issue getting: http://i.ebayimg.com/images/i/130854503340-0-1/s-l1000.jpg\n",
            "[!] Error:: HTTP Error 404: Not Found\n",
            "[%] Downloading Image #29 from https://bestanimations.com/Food/food-animated-gif-9.gif\n",
            "[%] File Downloaded !\n",
            "\n",
            "[%] Downloading Image #30 from https://www.bing.com/th/id/OGC.c6a5f0a627a9ab08206c40b8de9440fc?pid=1.7&amp;rurl=https%3a%2f%2fbestanimations.com%2fFood%2ffood-animated-gif-9.gif&amp;ehk=Ew0G29RhYXHtxdhwHY19m%2bWYLMF1uD6Ns%2fQ5SfFgSgc%3d\n",
            "[!] Issue getting: https://www.bing.com/th/id/OGC.c6a5f0a627a9ab08206c40b8de9440fc?pid=1.7&amp;rurl=https%3a%2f%2fbestanimations.com%2fFood%2ffood-animated-gif-9.gif&amp;ehk=Ew0G29RhYXHtxdhwHY19m%2bWYLMF1uD6Ns%2fQ5SfFgSgc%3d\n",
            "[!] Error:: HTTP Error 404: Not Found\n",
            "[%] Downloading Image #30 from https://lh3.googleusercontent.com/p/AF1QipMf5mjC0IP1SWAJkrj4kE9C3B9T2j2J2S-ZL14=s1280-p-no-v1\n",
            "[%] File Downloaded !\n",
            "\n",
            "\n",
            "\n",
            "[%] Done. Downloaded 30 images.\n",
            "time: 11.6 s (started: 2022-10-12 05:05:47 +00:00)\n"
          ]
        }
      ],
      "source": [
        "from bing_image_downloader import downloader\n",
        "downloader.download(\"ice cream cone\", limit=30, output_dir='images', adult_filter_off=True)"
      ]
    },
    {
      "cell_type": "code",
      "execution_count": 7,
      "metadata": {
        "colab": {
          "base_uri": "https://localhost:8080/"
        },
        "id": "B4dbffrMRUCo",
        "outputId": "78772a58-3767-42b2-b043-0bad0e2662b0"
      },
      "outputs": [
        {
          "output_type": "stream",
          "name": "stdout",
          "text": [
            "time: 46.8 s (started: 2022-10-12 05:06:01 +00:00)\n"
          ]
        }
      ],
      "source": [
        "import os\n",
        "import matplotlib.pyplot as plt\n",
        "import numpy as np\n",
        "from skimage.io import imread\n",
        "from skimage.transform import resize\n",
        "\n",
        "target = []\n",
        "images = []\n",
        "flat_data = []\n",
        "\n",
        "DATADIR = '/content/images'\n",
        "CATEGORIES = ['sunflower', 'rugby ball leather', 'ice cream cone']\n",
        "\n",
        "for category in CATEGORIES:\n",
        "  class_num = CATEGORIES.index(category)\n",
        "  path = os.path.join(DATADIR, category)\n",
        "  for img in os.listdir(path):\n",
        "    img_array = imread(os.path.join(path,img))\n",
        "    #plt.imshow(img_array)\n",
        "    img_resized = resize(img_array,(150,150,3))\n",
        "    flat_data.append(img_resized.flatten())\n",
        "    images.append(img_resized)\n",
        "    target.append(class_num)\n",
        "\n",
        "flat_data = np.array(flat_data)\n",
        "target = np.array(target)\n",
        "images = np.array(images)\n"
      ]
    },
    {
      "cell_type": "code",
      "execution_count": 8,
      "metadata": {
        "colab": {
          "base_uri": "https://localhost:8080/"
        },
        "id": "D12Z9Ir7QDnr",
        "outputId": "b022dd98-cd98-4b45-c689-cfb1be7daa19"
      },
      "outputs": [
        {
          "output_type": "execute_result",
          "data": {
            "text/plain": [
              "array([0.88050327, 0.72364052, 0.14324837, ..., 0.73736601, 0.5924902 ,\n",
              "       0.07277124])"
            ]
          },
          "metadata": {},
          "execution_count": 8
        },
        {
          "output_type": "stream",
          "name": "stdout",
          "text": [
            "time: 6.85 ms (started: 2022-10-12 05:06:53 +00:00)\n"
          ]
        }
      ],
      "source": [
        "flat_data[0]"
      ]
    },
    {
      "cell_type": "code",
      "execution_count": 9,
      "metadata": {
        "colab": {
          "base_uri": "https://localhost:8080/"
        },
        "id": "kQdEKZxTVuaZ",
        "outputId": "8fc63f71-4ee3-4f4f-a23d-a490b3834131"
      },
      "outputs": [
        {
          "output_type": "execute_result",
          "data": {
            "text/plain": [
              "array([0, 0, 0, 0, 0, 0, 0, 0, 0, 0, 0, 0, 0, 0, 0, 0, 0, 0, 0, 0, 0, 0,\n",
              "       0, 0, 0, 0, 0, 0, 0, 0, 1, 1, 1, 1, 1, 1, 1, 1, 1, 1, 1, 1, 1, 1,\n",
              "       1, 1, 1, 1, 1, 1, 1, 1, 1, 1, 1, 1, 1, 1, 1, 1, 2, 2, 2, 2, 2, 2,\n",
              "       2, 2, 2, 2, 2, 2, 2, 2, 2, 2, 2, 2, 2, 2, 2, 2, 2, 2, 2, 2, 2, 2,\n",
              "       2, 2])"
            ]
          },
          "metadata": {},
          "execution_count": 9
        },
        {
          "output_type": "stream",
          "name": "stdout",
          "text": [
            "time: 8.3 ms (started: 2022-10-12 05:06:55 +00:00)\n"
          ]
        }
      ],
      "source": [
        "target"
      ]
    },
    {
      "cell_type": "code",
      "execution_count": 10,
      "metadata": {
        "colab": {
          "base_uri": "https://localhost:8080/",
          "height": 300
        },
        "id": "ObOymSe0VuqF",
        "outputId": "14ca197f-7217-46e7-d8a7-f11fc09cdae6"
      },
      "outputs": [
        {
          "output_type": "execute_result",
          "data": {
            "text/plain": [
              "<BarContainer object of 3 artists>"
            ]
          },
          "metadata": {},
          "execution_count": 10
        },
        {
          "output_type": "display_data",
          "data": {
            "text/plain": [
              "<Figure size 432x288 with 1 Axes>"
            ],
            "image/png": "[encoded data removed]"
          },
          "metadata": {
            "needs_background": "light"
          }
        },
        {
          "output_type": "stream",
          "name": "stdout",
          "text": [
            "time: 187 ms (started: 2022-10-12 05:06:57 +00:00)\n"
          ]
        }
      ],
      "source": [
        "unique,count = np.unique(target, return_counts=True)\n",
        "plt.bar(CATEGORIES, count)"
      ]
    },
    {
      "cell_type": "code",
      "execution_count": 11,
      "metadata": {
        "colab": {
          "base_uri": "https://localhost:8080/"
        },
        "id": "eQUVqyvYVu0a",
        "outputId": "1f9344b7-7e12-4307-d282-54aca9969c10"
      },
      "outputs": [
        {
          "output_type": "stream",
          "name": "stdout",
          "text": [
            "time: 341 ms (started: 2022-10-12 05:07:06 +00:00)\n"
          ]
        }
      ],
      "source": [
        "#Split Data into Training and Testing\n",
        "\n",
        "from sklearn.model_selection import train_test_split\n",
        "x_train,x_test,y_train,y_test = train_test_split(flat_data, target, test_size=0.3, random_state=109)"
      ]
    },
    {
      "cell_type": "code",
      "execution_count": 12,
      "metadata": {
        "colab": {
          "base_uri": "https://localhost:8080/"
        },
        "id": "-_BtaZm2VvCe",
        "outputId": "ea1fba84-2534-4376-de5e-b5457d37b81e"
      },
      "outputs": [
        {
          "output_type": "execute_result",
          "data": {
            "text/plain": [
              "GridSearchCV(estimator=SVC(probability=True),\n",
              "             param_grid=[{'C': [1, 10, 100, 1000], 'kernel': ['linear']},\n",
              "                         {'C': [1, 10, 100, 1000], 'gamma': [0.001, 0.0001],\n",
              "                          'kernel': ['rbf']}])"
            ]
          },
          "metadata": {},
          "execution_count": 12
        },
        {
          "output_type": "stream",
          "name": "stdout",
          "text": [
            "time: 1min 41s (started: 2022-10-12 05:07:08 +00:00)\n"
          ]
        }
      ],
      "source": [
        "from sklearn.model_selection import GridSearchCV\n",
        "from sklearn import svm\n",
        "param_grid = [\n",
        "    {'C':[1,10,100,1000], 'kernel':['linear']},\n",
        "    {'C':[1,10,100,1000], 'gamma':[0.001,0.0001], 'kernel':['rbf']},\n",
        "]\n",
        "\n",
        "svc = svm.SVC(probability = True)\n",
        "clf = GridSearchCV(svc,param_grid)\n",
        "clf.fit(x_train,y_train)"
      ]
    },
    {
      "cell_type": "code",
      "execution_count": 13,
      "metadata": {
        "colab": {
          "base_uri": "https://localhost:8080/"
        },
        "id": "FN-wfBtKVvMt",
        "outputId": "222bac10-0615-492d-ca60-3de8427dff54"
      },
      "outputs": [
        {
          "output_type": "execute_result",
          "data": {
            "text/plain": [
              "array([1, 0, 2, 2, 0, 1, 2, 0, 2, 0, 1, 0, 2, 2, 0, 1, 0, 1, 0, 1, 0, 2,\n",
              "       0, 0, 0, 0, 2])"
            ]
          },
          "metadata": {},
          "execution_count": 13
        },
        {
          "output_type": "stream",
          "name": "stdout",
          "text": [
            "time: 370 ms (started: 2022-10-12 05:08:50 +00:00)\n"
          ]
        }
      ],
      "source": [
        "y_pred = clf.predict(x_test)\n",
        "y_pred"
      ]
    },
    {
      "cell_type": "code",
      "execution_count": 14,
      "metadata": {
        "colab": {
          "base_uri": "https://localhost:8080/"
        },
        "id": "HaWbdOXHhZGk",
        "outputId": "40eec09d-745d-46f8-ce61-ddc0f42b2544"
      },
      "outputs": [
        {
          "output_type": "execute_result",
          "data": {
            "text/plain": [
              "array([1, 0, 1, 2, 2, 1, 0, 1, 1, 0, 1, 0, 1, 2, 2, 1, 2, 1, 0, 1, 2, 2,\n",
              "       2, 0, 0, 0, 1])"
            ]
          },
          "metadata": {},
          "execution_count": 14
        },
        {
          "output_type": "stream",
          "name": "stdout",
          "text": [
            "time: 14.7 ms (started: 2022-10-12 05:08:50 +00:00)\n"
          ]
        }
      ],
      "source": [
        "y_test"
      ]
    },
    {
      "cell_type": "code",
      "execution_count": 15,
      "metadata": {
        "colab": {
          "base_uri": "https://localhost:8080/"
        },
        "id": "RLPHiWXuhZVy",
        "outputId": "912236bd-bedf-41b5-dabf-83ce4a97f9b0"
      },
      "outputs": [
        {
          "output_type": "stream",
          "name": "stdout",
          "text": [
            "time: 884 µs (started: 2022-10-12 05:09:11 +00:00)\n"
          ]
        }
      ],
      "source": [
        "from sklearn.metrics import accuracy_score,confusion_matrix"
      ]
    },
    {
      "cell_type": "code",
      "execution_count": 16,
      "metadata": {
        "colab": {
          "base_uri": "https://localhost:8080/"
        },
        "id": "xDod86UxT3nR",
        "outputId": "dbe73465-4f9e-4cc1-bad1-42742896cf1d"
      },
      "outputs": [
        {
          "output_type": "execute_result",
          "data": {
            "text/plain": [
              "0.5925925925925926"
            ]
          },
          "metadata": {},
          "execution_count": 16
        },
        {
          "output_type": "stream",
          "name": "stdout",
          "text": [
            "time: 8.97 ms (started: 2022-10-12 05:09:17 +00:00)\n"
          ]
        }
      ],
      "source": [
        "accuracy_score(y_pred,y_test)"
      ]
    },
    {
      "cell_type": "code",
      "execution_count": 17,
      "metadata": {
        "colab": {
          "base_uri": "https://localhost:8080/"
        },
        "id": "YO3u75kEiDgw",
        "outputId": "da63c2e1-89f2-45ae-c7d5-dc648f085036"
      },
      "outputs": [
        {
          "output_type": "execute_result",
          "data": {
            "text/plain": [
              "array([[7, 1, 5],\n",
              "       [0, 6, 0],\n",
              "       [1, 4, 3]])"
            ]
          },
          "metadata": {},
          "execution_count": 17
        },
        {
          "output_type": "stream",
          "name": "stdout",
          "text": [
            "time: 9.85 ms (started: 2022-10-12 05:09:18 +00:00)\n"
          ]
        }
      ],
      "source": [
        "confusion_matrix(y_pred,y_test)"
      ]
    },
    {
      "cell_type": "code",
      "execution_count": 18,
      "metadata": {
        "colab": {
          "base_uri": "https://localhost:8080/"
        },
        "id": "sZ0Ull3rT3yq",
        "outputId": "61f0db65-f203-4944-a209-5710550f4983"
      },
      "outputs": [
        {
          "output_type": "stream",
          "name": "stdout",
          "text": [
            "time: 45.1 ms (started: 2022-10-12 05:09:21 +00:00)\n"
          ]
        }
      ],
      "source": [
        "#Save the model using Pickle Library\n",
        "import pickle\n",
        "pickle.dump(clf,open('img_model.p','wb'))"
      ]
    },
    {
      "cell_type": "code",
      "execution_count": 19,
      "metadata": {
        "colab": {
          "base_uri": "https://localhost:8080/"
        },
        "id": "_07nsI60T36l",
        "outputId": "61572e88-8761-453d-9110-a8a1d4451dbf"
      },
      "outputs": [
        {
          "output_type": "stream",
          "name": "stdout",
          "text": [
            "time: 35.1 ms (started: 2022-10-12 05:09:22 +00:00)\n"
          ]
        }
      ],
      "source": [
        "model = pickle.load(open('img_model.p','rb'))"
      ]
    },
    {
      "cell_type": "code",
      "execution_count": null,
      "metadata": {
        "colab": {
          "base_uri": "https://localhost:8080/"
        },
        "id": "pGrpsNwppQLr",
        "outputId": "c87352b8-e7ac-4b80-b3b9-a8943721f821"
      },
      "outputs": [
        {
          "name": "stdout",
          "output_type": "stream",
          "text": [
            "time: 2.14 s (started: 2022-10-12 03:05:32 +00:00)\n"
          ]
        }
      ],
      "source": [
        "from tensorflow.keras import Model\n"
      ]
    },
    {
      "cell_type": "code",
      "execution_count": 20,
      "metadata": {
        "colab": {
          "base_uri": "https://localhost:8080/",
          "height": 338
        },
        "id": "hFxHyDwClrTP",
        "outputId": "ab0d2c31-1c22-4500-9d95-8c28b47d6213"
      },
      "outputs": [
        {
          "output_type": "stream",
          "name": "stdout",
          "text": [
            "Enter your URLhttps://m.media-amazon.com/images/I/3101QAHrt9S._SX300_SY300_QL70_FMwebp_.jpg\n",
            "(300, 300, 3)\n",
            " PREDICTED OUTPUT: ice cream cone\n"
          ]
        },
        {
          "output_type": "display_data",
          "data": {
            "text/plain": [
              "<Figure size 432x288 with 1 Axes>"
            ],
            "image/png": "[encoded data removed]"
          },
          "metadata": {
            "needs_background": "light"
          }
        },
        {
          "output_type": "stream",
          "name": "stdout",
          "text": [
            "time: 30 s (started: 2022-10-12 05:09:32 +00:00)\n"
          ]
        }
      ],
      "source": [
        "#Testing a brand new Image\n",
        "\n",
        "flat_data = []\n",
        "url = input('Enter your URL')\n",
        "img = imread(url)\n",
        "img_resized = resize(img,(150,150,3))\n",
        "flat_data.append(img_resized.flatten())\n",
        "flat_data = np.array(flat_data)\n",
        "print(img.shape)\n",
        "plt.imshow(img_resized)\n",
        "y_out = model.predict(flat_data)\n",
        "y_out = CATEGORIES[y_out[0]]\n",
        "print(f' PREDICTED OUTPUT: {y_out}')"
      ]
    },
    {
      "cell_type": "code",
      "execution_count": 21,
      "metadata": {
        "colab": {
          "base_uri": "https://localhost:8080/"
        },
        "id": "U0CujeCBtBYl",
        "outputId": "8079da6c-bc22-49e1-97cb-14d06f6b2f41"
      },
      "outputs": [
        {
          "output_type": "stream",
          "name": "stdout",
          "text": [
            "Looking in indexes: https://pypi.org/simple, https://us-python.pkg.dev/colab-wheels/public/simple/\n",
            "Collecting streamlit\n",
            "  Downloading streamlit-1.13.0-py2.py3-none-any.whl (9.2 MB)\n",
            "\u001b[K     |████████████████████████████████| 9.2 MB 5.2 MB/s \n",
            "\u001b[?25hCollecting semver\n",
            "  Downloading semver-2.13.0-py2.py3-none-any.whl (12 kB)\n",
            "Requirement already satisfied: tornado>=5.0 in /usr/local/lib/python3.7/dist-packages (from streamlit) (5.1.1)\n",
            "Requirement already satisfied: requests>=2.4 in /usr/local/lib/python3.7/dist-packages (from streamlit) (2.23.0)\n",
            "Collecting rich>=10.11.0\n",
            "  Downloading rich-12.6.0-py3-none-any.whl (237 kB)\n",
            "\u001b[K     |████████████████████████████████| 237 kB 65.7 MB/s \n",
            "\u001b[?25hCollecting blinker>=1.0.0\n",
            "  Downloading blinker-1.5-py2.py3-none-any.whl (12 kB)\n",
            "Requirement already satisfied: toml in /usr/local/lib/python3.7/dist-packages (from streamlit) (0.10.2)\n",
            "Collecting validators>=0.2\n",
            "  Downloading validators-0.20.0.tar.gz (30 kB)\n",
            "Requirement already satisfied: protobuf!=3.20.2,<4,>=3.12 in /usr/local/lib/python3.7/dist-packages (from streamlit) (3.17.3)\n",
            "Requirement already satisfied: pyarrow>=4.0 in /usr/local/lib/python3.7/dist-packages (from streamlit) (6.0.1)\n",
            "Requirement already satisfied: importlib-metadata>=1.4 in /usr/local/lib/python3.7/dist-packages (from streamlit) (5.0.0)\n",
            "Collecting watchdog\n",
            "  Downloading watchdog-2.1.9-py3-none-manylinux2014_x86_64.whl (78 kB)\n",
            "\u001b[K     |████████████████████████████████| 78 kB 5.6 MB/s \n",
            "\u001b[?25hCollecting pydeck>=0.1.dev5\n",
            "  Downloading pydeck-0.8.0b3-py2.py3-none-any.whl (4.7 MB)\n",
            "\u001b[K     |████████████████████████████████| 4.7 MB 37.6 MB/s \n",
            "\u001b[?25hRequirement already satisfied: tzlocal>=1.1 in /usr/local/lib/python3.7/dist-packages (from streamlit) (1.5.1)\n",
            "Requirement already satisfied: typing-extensions>=3.10.0.0 in /usr/local/lib/python3.7/dist-packages (from streamlit) (4.1.1)\n",
            "Requirement already satisfied: pillow>=6.2.0 in /usr/local/lib/python3.7/dist-packages (from streamlit) (7.1.2)\n",
            "Collecting pympler>=0.9\n",
            "  Downloading Pympler-1.0.1-py3-none-any.whl (164 kB)\n",
            "\u001b[K     |████████████████████████████████| 164 kB 52.7 MB/s \n",
            "\u001b[?25hRequirement already satisfied: click>=7.0 in /usr/local/lib/python3.7/dist-packages (from streamlit) (7.1.2)\n",
            "Requirement already satisfied: packaging>=14.1 in /usr/local/lib/python3.7/dist-packages (from streamlit) (21.3)\n",
            "Requirement already satisfied: pandas>=0.21.0 in /usr/local/lib/python3.7/dist-packages (from streamlit) (1.3.5)\n",
            "Requirement already satisfied: numpy in /usr/local/lib/python3.7/dist-packages (from streamlit) (1.21.6)\n",
            "Collecting gitpython!=3.1.19\n",
            "  Downloading GitPython-3.1.29-py3-none-any.whl (182 kB)\n",
            "\u001b[K     |████████████████████████████████| 182 kB 66.0 MB/s \n",
            "\u001b[?25hRequirement already satisfied: cachetools>=4.0 in /usr/local/lib/python3.7/dist-packages (from streamlit) (4.2.4)\n",
            "Requirement already satisfied: altair>=3.2.0 in /usr/local/lib/python3.7/dist-packages (from streamlit) (4.2.0)\n",
            "Requirement already satisfied: python-dateutil in /usr/local/lib/python3.7/dist-packages (from streamlit) (2.8.2)\n",
            "Requirement already satisfied: entrypoints in /usr/local/lib/python3.7/dist-packages (from altair>=3.2.0->streamlit) (0.4)\n",
            "Requirement already satisfied: jinja2 in /usr/local/lib/python3.7/dist-packages (from altair>=3.2.0->streamlit) (2.11.3)\n",
            "Requirement already satisfied: jsonschema>=3.0 in /usr/local/lib/python3.7/dist-packages (from altair>=3.2.0->streamlit) (4.3.3)\n",
            "Requirement already satisfied: toolz in /usr/local/lib/python3.7/dist-packages (from altair>=3.2.0->streamlit) (0.12.0)\n",
            "Collecting gitdb<5,>=4.0.1\n",
            "  Downloading gitdb-4.0.9-py3-none-any.whl (63 kB)\n",
            "\u001b[K     |████████████████████████████████| 63 kB 1.5 MB/s \n",
            "\u001b[?25hCollecting smmap<6,>=3.0.1\n",
            "  Downloading smmap-5.0.0-py3-none-any.whl (24 kB)\n",
            "Requirement already satisfied: zipp>=0.5 in /usr/local/lib/python3.7/dist-packages (from importlib-metadata>=1.4->streamlit) (3.8.1)\n",
            "Requirement already satisfied: importlib-resources>=1.4.0 in /usr/local/lib/python3.7/dist-packages (from jsonschema>=3.0->altair>=3.2.0->streamlit) (5.9.0)\n",
            "Requirement already satisfied: attrs>=17.4.0 in /usr/local/lib/python3.7/dist-packages (from jsonschema>=3.0->altair>=3.2.0->streamlit) (22.1.0)\n",
            "Requirement already satisfied: pyrsistent!=0.17.0,!=0.17.1,!=0.17.2,>=0.14.0 in /usr/local/lib/python3.7/dist-packages (from jsonschema>=3.0->altair>=3.2.0->streamlit) (0.18.1)\n",
            "Requirement already satisfied: pyparsing!=3.0.5,>=2.0.2 in /usr/local/lib/python3.7/dist-packages (from packaging>=14.1->streamlit) (3.0.9)\n",
            "Requirement already satisfied: pytz>=2017.3 in /usr/local/lib/python3.7/dist-packages (from pandas>=0.21.0->streamlit) (2022.4)\n",
            "Requirement already satisfied: six>=1.9 in /usr/local/lib/python3.7/dist-packages (from protobuf!=3.20.2,<4,>=3.12->streamlit) (1.15.0)\n",
            "Requirement already satisfied: MarkupSafe>=0.23 in /usr/local/lib/python3.7/dist-packages (from jinja2->altair>=3.2.0->streamlit) (2.0.1)\n",
            "Requirement already satisfied: chardet<4,>=3.0.2 in /usr/local/lib/python3.7/dist-packages (from requests>=2.4->streamlit) (3.0.4)\n",
            "Requirement already satisfied: idna<3,>=2.5 in /usr/local/lib/python3.7/dist-packages (from requests>=2.4->streamlit) (2.10)\n",
            "Requirement already satisfied: certifi>=2017.4.17 in /usr/local/lib/python3.7/dist-packages (from requests>=2.4->streamlit) (2022.9.24)\n",
            "Requirement already satisfied: urllib3!=1.25.0,!=1.25.1,<1.26,>=1.21.1 in /usr/local/lib/python3.7/dist-packages (from requests>=2.4->streamlit) (1.24.3)\n",
            "Collecting commonmark<0.10.0,>=0.9.0\n",
            "  Downloading commonmark-0.9.1-py2.py3-none-any.whl (51 kB)\n",
            "\u001b[K     |████████████████████████████████| 51 kB 6.1 MB/s \n",
            "\u001b[?25hRequirement already satisfied: pygments<3.0.0,>=2.6.0 in /usr/local/lib/python3.7/dist-packages (from rich>=10.11.0->streamlit) (2.6.1)\n",
            "Requirement already satisfied: decorator>=3.4.0 in /usr/local/lib/python3.7/dist-packages (from validators>=0.2->streamlit) (4.4.2)\n",
            "Building wheels for collected packages: validators\n",
            "  Building wheel for validators (setup.py) ... \u001b[?25l\u001b[?25hdone\n",
            "  Created wheel for validators: filename=validators-0.20.0-py3-none-any.whl size=19582 sha256=fdc5a1f5efb32098fccd19cdac29db8491dbd08e04f18114ec3bc00d2aacefa8\n",
            "  Stored in directory: /root/.cache/pip/wheels/5f/55/ab/36a76989f7f88d9ca7b1f68da6d94252bb6a8d6ad4f18e04e9\n",
            "Successfully built validators\n",
            "Installing collected packages: smmap, gitdb, commonmark, watchdog, validators, semver, rich, pympler, pydeck, gitpython, blinker, streamlit\n",
            "Successfully installed blinker-1.5 commonmark-0.9.1 gitdb-4.0.9 gitpython-3.1.29 pydeck-0.8.0b3 pympler-1.0.1 rich-12.6.0 semver-2.13.0 smmap-5.0.0 streamlit-1.13.0 validators-0.20.0 watchdog-2.1.9\n",
            "Looking in indexes: https://pypi.org/simple, https://us-python.pkg.dev/colab-wheels/public/simple/\n",
            "Collecting pyngrok\n",
            "  Downloading pyngrok-5.1.0.tar.gz (745 kB)\n",
            "\u001b[K     |████████████████████████████████| 745 kB 5.3 MB/s \n",
            "\u001b[?25hRequirement already satisfied: PyYAML in /usr/local/lib/python3.7/dist-packages (from pyngrok) (6.0)\n",
            "Building wheels for collected packages: pyngrok\n",
            "  Building wheel for pyngrok (setup.py) ... \u001b[?25l\u001b[?25hdone\n",
            "  Created wheel for pyngrok: filename=pyngrok-5.1.0-py3-none-any.whl size=19007 sha256=355fb2a3373c0f56af8710c5aae916f77d6c442f615a68252b0913774bb592eb\n",
            "  Stored in directory: /root/.cache/pip/wheels/bf/e6/af/ccf6598ecefecd44104069371795cb9b3afbcd16987f6ccfb3\n",
            "Successfully built pyngrok\n",
            "Installing collected packages: pyngrok\n",
            "Successfully installed pyngrok-5.1.0\n",
            "time: 16.3 s (started: 2022-10-12 05:10:08 +00:00)\n"
          ]
        }
      ],
      "source": [
        "!pip install streamlit\n",
        "\n",
        "!pip install pyngrok\n",
        "from pyngrok import ngrok"
      ]
    },
    {
      "cell_type": "code",
      "source": [
        "%%writefile app.py\n",
        "import streamlit as st\n",
        "import numpy as np\n",
        "from skimage.io import imread\n",
        "from skimage.transform import resize\n",
        "import pickle\n",
        "from PIL import Image \n",
        "st.set_option('deprecation.showfileUploaderEncoding', False)\n",
        "st.title('Image Classifier using Machine Learning')\n",
        "st.text('Upload the Image')\n",
        "\n",
        "model = pickle.load(open('img_model.p', 'rb'))\n",
        "\n",
        "uploaded_file = st.file_uploader(\"Choose an Image...\", type=\"jpg\")\n",
        "if uploaded_file is not None:\n",
        "  img = Image.open(uploaded_file)\n",
        "  st.image(img, caption='Uploaded Image')\n",
        "\n",
        "  if st.button('PREDICT'):\n",
        "    CATEGORIES = ['sunflower', 'rugby ball leather', 'ice cream cone']\n",
        "    st.write('Result...')\n",
        "    flat_data = []\n",
        "    img = np.array(img)\n",
        "    img_resized = resize(img,(150,150,3))\n",
        "    flat_data.append(img_resized.flatten())\n",
        "    flat_data = np.array(flat_data)\n",
        "    y_out = model.predict(flat_data)\n",
        "    y_out = CATEGORIES[y_out[0]]\n",
        "    st.title(f' PREDICTED OUTPUT: {y_out}')\n",
        "    q = model.predict_proba(flat_data)\n",
        "    for index, item in enumerate(CATEGORIES):\n",
        "      st.write(f'{item} : {q[0][index]*100}%')\n",
        " \n",
        "\n",
        "\n"
      ],
      "metadata": {
        "colab": {
          "base_uri": "https://localhost:8080/"
        },
        "id": "B44wC5UVoMV7",
        "outputId": "aa0aa7aa-a002-4a7f-f78c-e3c153ee41c9"
      },
      "execution_count": 38,
      "outputs": [
        {
          "output_type": "stream",
          "name": "stdout",
          "text": [
            "Overwriting app.py\n",
            "time: 6.81 ms (started: 2022-10-12 05:59:23 +00:00)\n"
          ]
        }
      ]
    },
    {
      "cell_type": "code",
      "source": [
        "!streamlit run app.py & npx localtunnel --port 8501"
      ],
      "metadata": {
        "colab": {
          "base_uri": "https://localhost:8080/"
        },
        "id": "bKwsfNksxrS4",
        "outputId": "b02d44b4-9d36-4d65-d94a-a0d6eaa8ebb8"
      },
      "execution_count": null,
      "outputs": [
        {
          "output_type": "stream",
          "name": "stdout",
          "text": [
            "2022-10-12 05:59:30.471 INFO    numexpr.utils: NumExpr defaulting to 2 threads.\n",
            "\u001b[K\u001b[?25h\n",
            "Collecting usage statistics. To deactivate, set browser.gatherUsageStats to False.\n",
            "\u001b[0m\n",
            "npx: installed 22 in 3.364s\n",
            "\u001b[0m\n",
            "\u001b[34m\u001b[1m  You can now view your Streamlit app in your browser.\u001b[0m\n",
            "\u001b[0m\n",
            "\u001b[34m  Network URL: \u001b[0m\u001b[1mhttp://172.28.0.2:8501\u001b[0m\n",
            "\u001b[34m  External URL: \u001b[0m\u001b[1mhttp://34.73.110.99:8501\u001b[0m\n",
            "\u001b[0m\n",
            "your url is: https://smooth-humans-lie-34-73-110-99.loca.lt\n"
          ]
        }
      ]
    }
  ],
  "metadata": {
    "colab": {
      "collapsed_sections": [],
      "provenance": []
    },
    "kernelspec": {
      "display_name": "Python 3",
      "name": "python3"
    },
    "language_info": {
      "name": "python"
    }
  },
  "nbformat": 4,
  "nbformat_minor": 0
}